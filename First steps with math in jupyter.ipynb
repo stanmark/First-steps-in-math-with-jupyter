{
 "cells": [
  {
   "cell_type": "markdown",
   "metadata": {},
   "source": [
    "# First steps with math in jupyter"
   ]
  },
  {
   "cell_type": "markdown",
   "metadata": {},
   "source": [
    "### Calculator\n",
    "[source](https://docs.python.org/2/library/math.html)\n",
    "\n",
    "$$\\frac{\\sin(0.7)}{3^4 - \\log(0.23)}$$"
   ]
  },
  {
   "cell_type": "code",
   "execution_count": 2,
   "metadata": {},
   "outputs": [
    {
     "data": {
      "text/plain": [
       "0.007811570491335236"
      ]
     },
     "execution_count": 2,
     "metadata": {},
     "output_type": "execute_result"
    }
   ],
   "source": [
    "import math\n",
    "\n",
    "math.sin(.7)/(3**4 - math.log(.23))"
   ]
  },
  {
   "cell_type": "markdown",
   "metadata": {},
   "source": [
    "### Graphical calculator\n",
    "\n",
    "[source](https://matplotlib.org/tutorials/introductory/usage.html#sphx-glr-tutorials-introductory-usage-py)"
   ]
  },
  {
   "cell_type": "code",
   "execution_count": 5,
   "metadata": {},
   "outputs": [
    {
     "data": {
      "image/png": "[encoded data removed]",
      "text/plain": [
       "<matplotlib.figure.Figure at 0x7fa69d4bb550>"
      ]
     },
     "metadata": {},
     "output_type": "display_data"
    }
   ],
   "source": [
    "import matplotlib.pyplot as plt\n",
    "import numpy as np\n",
    "\n",
    "x = np.linspace(0, 2, 100)\n",
    "\n",
    "plt.plot(x, x, label='linear')\n",
    "plt.plot(x, x**2, label='quadratic')\n",
    "plt.plot(x, x**3, label='cubic')\n",
    "\n",
    "plt.xlabel('x label')\n",
    "plt.ylabel('y label')\n",
    "\n",
    "plt.title(\"Example Plot\")\n",
    "\n",
    "plt.legend()\n",
    "\n",
    "plt.show()"
   ]
  },
  {
   "cell_type": "markdown",
   "metadata": {},
   "source": [
    "### Symbolic calculations and Solving equations\n",
    "\n",
    "[source](http://docs.sympy.org/latest/tutorial/intro.html#the-power-of-symbolic-computation)"
   ]
  },
  {
   "cell_type": "markdown",
   "metadata": {},
   "source": [
    "#### Symbolic calculations"
   ]
  },
  {
   "cell_type": "code",
   "execution_count": 2,
   "metadata": {},
   "outputs": [
    {
     "data": {
      "image/png": "[encoded data removed]",
      "text/latex": [
       "$$\\left(\\frac{\\sqrt{2} x^{2}}{2} \\sin{\\left (x + \\frac{\\pi}{4} \\right )} - x \\sin{\\left (x \\right )} - \\sqrt{2} \\cos{\\left (x + \\frac{\\pi}{4} \\right )}\\right) e^{x}$$"
      ],
      "text/plain": [
       "⎛    2    ⎛    π⎞                           ⎞   \n",
       "⎜√2⋅x ⋅sin⎜x + ─⎟                           ⎟   \n",
       "⎜         ⎝    4⎠                    ⎛    π⎞⎟  x\n",
       "⎜──────────────── - x⋅sin(x) - √2⋅cos⎜x + ─⎟⎟⋅ℯ \n",
       "⎝       2                            ⎝    4⎠⎠   "
      ]
     },
     "execution_count": 2,
     "metadata": {},
     "output_type": "execute_result"
    }
   ],
   "source": [
    "from sympy import *\n",
    "# to print with mathjax on jupyter notebook\n",
    "init_printing()\n",
    "\n",
    "x = symbols('x')\n",
    "\n",
    "simplify(integrate(exp(x)*sin(x) + x**2 * exp(x)*cos(x), x))"
   ]
  },
  {
   "cell_type": "markdown",
   "metadata": {},
   "source": [
    "#### Equations solving"
   ]
  },
  {
   "cell_type": "code",
   "execution_count": 4,
   "metadata": {},
   "outputs": [
    {
     "data": {
      "image/png": "[encoded data removed]",
      "text/latex": [
       "$$\\left [ - \\sqrt[3]{2}, \\quad \\frac{\\sqrt[3]{2}}{2} - \\frac{\\sqrt[3]{2} i}{2} \\sqrt{3}, \\quad \\frac{\\sqrt[3]{2}}{2} + \\frac{\\sqrt[3]{2} i}{2} \\sqrt{3}\\right ]$$"
      ],
      "text/plain": [
       "⎡        3 ___   3 ___       3 ___   3 ___     ⎤\n",
       "⎢ 3 ___  ╲╱ 2    ╲╱ 2 ⋅√3⋅ⅈ  ╲╱ 2    ╲╱ 2 ⋅√3⋅ⅈ⎥\n",
       "⎢-╲╱ 2 , ───── - ──────────, ───── + ──────────⎥\n",
       "⎣          2         2         2         2     ⎦"
      ]
     },
     "execution_count": 4,
     "metadata": {},
     "output_type": "execute_result"
    }
   ],
   "source": [
    "from sympy import Symbol, solve\n",
    "\n",
    "x = Symbol(\"x\")\n",
    "solve(x**3 + 2)"
   ]
  },
  {
   "cell_type": "markdown",
   "metadata": {},
   "source": [
    "#### Numerical calculation"
   ]
  },
  {
   "cell_type": "code",
   "execution_count": 8,
   "metadata": {},
   "outputs": [
    {
     "data": {
      "text/latex": [
       "$$\\left[\\begin{matrix}0.620344523485226\\\\1.83838393066159\\end{matrix}\\right]$$"
      ],
      "text/plain": [
       "⎡0.620344523485226⎤\n",
       "⎢                 ⎥\n",
       "⎣1.83838393066159 ⎦"
      ]
     },
     "execution_count": 8,
     "metadata": {},
     "output_type": "execute_result"
    }
   ],
   "source": [
    "from sympy import symbols, nsolve, exp, init_printing\n",
    "init_printing()\n",
    "x, y = symbols(\"x y\")\n",
    "nsolve([x+y**2-4, exp(x)+x*y-3], [x, y], [1, 1])"
   ]
  },
  {
   "cell_type": "markdown",
   "metadata": {},
   "source": [
    "#### Langevin example"
   ]
  },
  {
   "cell_type": "code",
   "execution_count": 32,
   "metadata": {},
   "outputs": [],
   "source": [
    "# does not work\n",
    "\n",
    "# from sympy import symbols, nsolve, tanh\n",
    "# import numpy as np\n",
    "\n",
    "# m, beta = symbols(\"m beta\")\n",
    "\n",
    "# def langevin(m, beta) :\n",
    "#     return tanh(beta*m) - m\n",
    "\n",
    "# langevin_vec = np.vectorize(langevin)"
   ]
  },
  {
   "cell_type": "code",
   "execution_count": null,
   "metadata": {
    "collapsed": true
   },
   "outputs": [],
   "source": [
    "# def langevin_solution(beta) :\n",
    "#     return nsolve([langevin_vec(m, beta)], m, .5)\n",
    "\n",
    "# langevin_solution_vec = np.vectorize(langevin_solution)\n",
    "# #b = np.linspace(-10, 10, 100)\n",
    "\n",
    "# langevin_solution([1,2,3])\n",
    "\n",
    "# m_vectorized = np.vectorize(langevin_solution)\n",
    "\n",
    "# b = np.linspace(-10, 10, 100)\n",
    "\n",
    "# #m_vectorized(b)\n",
    "# #m_solve(2)\n",
    "\n",
    "# #m_b = m_solve(b)\n",
    "# #nsolve([func(m,1)], m, 0.5)"
   ]
  },
  {
   "cell_type": "markdown",
   "metadata": {
    "collapsed": true
   },
   "source": [
    "### Examples of Typing code\n",
    "\n",
    "[source](http://jupyter-notebook.readthedocs.io/en/stable/examples/Notebook/Working%20With%20Markdown%20Cells.html)"
   ]
  },
  {
   "cell_type": "markdown",
   "metadata": {},
   "source": [
    "#### Python code\n",
    "```python\n",
    "def my_example_function(x, y=0):\n",
    "    return 2*x**2 + y\n",
    "    \n",
    "print(my_example_function(2, 3))\n",
    "\n",
    "print(my_example_function(2))\n",
    "```\n",
    "\n",
    "#### Javascript\n",
    "```javascript\n",
    "var now = new Date();\n",
    "\n",
    "console.log('Today: ' + now.toDateString() + ' in ' + now.toTimeString());\n",
    "```\n",
    "\n",
    "#### Bash\n",
    "\n",
    "```bash\n",
    "# Color Prompt                                                           \n",
    "parse_git_branch() {                                                      \n",
    "    git branch 2> /dev/null | sed -e '/^[^*]/d' -e 's/* \\(.*\\)/ (\\1)/'\n",
    "}\n",
    "```"
   ]
  },
  {
   "cell_type": "code",
   "execution_count": 4,
   "metadata": {},
   "outputs": [
    {
     "name": "stdout",
     "output_type": "stream",
     "text": [
      "11\n",
      "8\n"
     ]
    }
   ],
   "source": [
    "def my_example_function(x, y=0):\n",
    "    return 2*x**2 + y\n",
    "    \n",
    "print(my_example_function(2, 3))\n",
    "\n",
    "print(my_example_function(2))"
   ]
  },
  {
   "cell_type": "markdown",
   "metadata": {},
   "source": [
    "[source](http://arogozhnikov.github.io/2016/09/10/jupyter-features.html)"
   ]
  },
  {
   "cell_type": "code",
   "execution_count": 9,
   "metadata": {},
   "outputs": [
    {
     "name": "stdout",
     "output_type": "stream",
     "text": [
      "Hi, this is ruby.\n"
     ]
    }
   ],
   "source": [
    "%%ruby\n",
    "puts 'Hi, this is ruby.'"
   ]
  }
 ],
 "metadata": {
  "kernelspec": {
   "display_name": "Python 3",
   "language": "python",
   "name": "python3"
  },
  "language_info": {
   "codemirror_mode": {
    "name": "ipython",
    "version": 3
   },
   "file_extension": ".py",
   "mimetype": "text/x-python",
   "name": "python",
   "nbconvert_exporter": "python",
   "pygments_lexer": "ipython3",
   "version": "3.6.3"
  }
 },
 "nbformat": 4,
 "nbformat_minor": 2
}
